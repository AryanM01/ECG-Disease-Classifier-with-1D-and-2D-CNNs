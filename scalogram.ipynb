{
 "cells": [
  {
   "cell_type": "code",
   "execution_count": 2,
   "metadata": {},
   "outputs": [],
   "source": [
    "import pywt\n",
    "import numpy as np\n",
    "import csv\n",
    "from scipy import stats\n",
    "import matplotlib.pyplot as plt\n",
    "from PIL import Image\n",
    "import os\n",
    "from sklearn.utils import resample"
   ]
  },
  {
   "cell_type": "code",
   "execution_count": 3,
   "metadata": {},
   "outputs": [],
   "source": [
    "path = r'D:\\6th SEM\\mini project\\MIT_BIH_KAGGLE\\mitbih_database'\n",
    "filenames = next(os.walk(path))[2]\n",
    "records=list()\n",
    "annotations=list()\n",
    "filenames.sort()"
   ]
  },
  {
   "cell_type": "code",
   "execution_count": 4,
   "metadata": {},
   "outputs": [
    {
     "data": {
      "text/plain": [
       "'D:\\\\6th SEM\\\\mini project\\\\MIT_BIH_KAGGLE\\\\mitbih_database/100.csv'"
      ]
     },
     "execution_count": 4,
     "metadata": {},
     "output_type": "execute_result"
    }
   ],
   "source": [
    "for f in filenames:\n",
    "    filename, file_extension = os.path.splitext(f)\n",
    "\n",
    "    if(file_extension=='.csv'):\n",
    "        records.append(path+'/'+filename+file_extension)\n",
    "    else:\n",
    "        annotations.append(path+'/'+filename+file_extension)\n",
    "\n",
    "records[0]"
   ]
  },
  {
   "cell_type": "code",
   "execution_count": 5,
   "metadata": {},
   "outputs": [],
   "source": [
    "# 2.2. Save Scalogram as Image\n",
    "# Converts scalogram data to an image and saves it to the specified directory.\n",
    "def save_image(scalogram, label, index):\n",
    "    \"\"\"\n",
    "    Saves the scalogram image with the given label and index.\n",
    "    Args:\n",
    "        scalogram: 2D array representing the scalogram.\n",
    "        label: The label corresponding to the ECG class.\n",
    "        index: Unique identifier for the image file.\n",
    "    \"\"\"\n",
    "    image_size = (227, 227)  # Target size for AlexNet\n",
    "    plt.figure(figsize=(image_size[0] / 100, image_size[1] / 100), dpi=100)\n",
    "    plt.imshow(scalogram, aspect='auto', cmap='jet')\n",
    "    plt.axis('off')\n",
    "    plt.tight_layout(pad=0)\n",
    "    image_path = os.path.join(image_dir, f'scalogram_{label}_{index}.png')\n",
    "    plt.savefig(image_path, bbox_inches='tight', pad_inches=0)\n",
    "    plt.close()"
   ]
  },
  {
   "cell_type": "code",
   "execution_count": 6,
   "metadata": {},
   "outputs": [],
   "source": [
    "def denoise(data):\n",
    "    w = pywt.Wavelet('sym4')\n",
    "    maxlev = pywt.dwt_max_level(len(data), w.dec_len)\n",
    "    threshold = 0.04 # Threshold for filtering\n",
    "\n",
    "    coeffs = pywt.wavedec(data, 'sym4', level=maxlev)\n",
    "  #  print(len(coeffs))\n",
    "    for i in range(1, len(coeffs)):\n",
    "        coeffs[i] = pywt.threshold(coeffs[i], threshold*max(coeffs[i]))\n",
    "\n",
    "    datarec = pywt.waverec(coeffs, 'sym4')\n",
    "    return datarec"
   ]
  },
  {
   "cell_type": "code",
   "execution_count": 7,
   "metadata": {},
   "outputs": [],
   "source": [
    "# 3. Initialization\n",
    "# Setting up global variables and directories.\n",
    "X = []  # List to store ECG beats\n",
    "y = []  # List to store labels\n",
    "window_size = 180  # Window size for extracting ECG beats\n",
    "scales = np.arange(1, 64)  # Scales for Continuous Wavelet Transform (CWT)\n",
    "image_dir = 'images'  # Directory to save scalogram images\n",
    "\n",
    "# Create the output directory if it does not exist\n",
    "if not os.path.exists(image_dir):\n",
    "    os.makedirs(image_dir)\n",
    "\n",
    "# Define classes and target samples\n",
    "classes = ['N', 'L', 'R', 'A', 'V']  # Example class names\n",
    "count_classes = [0] * len(classes)\n",
    "target_samples_per_class = 2500  # Default target samples per class\n"
   ]
  },
  {
   "cell_type": "code",
   "execution_count": 8,
   "metadata": {},
   "outputs": [],
   "source": [
    "# 4. Load and Preprocess Data\n",
    "# Reading signal data and annotations, and preprocessing signals.\n",
    "for r in range(len(records)):\n",
    "    signals = []\n",
    "    with open(records[r], 'r') as csvfile:\n",
    "        spamreader = csv.reader(csvfile, delimiter=',', quotechar='|')\n",
    "        for row_index, row in enumerate(spamreader):\n",
    "            if row_index > 0:  # Skip the header\n",
    "                signals.append(int(row[1]))\n",
    "\n",
    "    # Denoise and normalize the signals\n",
    "    signals = denoise(signals)\n",
    "    signals = stats.zscore(signals)\n",
    "\n",
    "    # Read annotations and extract labeled beats\n",
    "    with open(annotations[r], 'r') as fileID:\n",
    "        data = fileID.readlines()\n",
    "        for d in range(1, len(data)):\n",
    "            splitted = data[d].split()\n",
    "            pos = int(splitted[1])\n",
    "            arrhythmia_type = splitted[2]\n",
    "\n",
    "            if arrhythmia_type in classes:\n",
    "                arrhythmia_index = classes.index(arrhythmia_type)\n",
    "                if window_size <= pos < (len(signals) - window_size):\n",
    "                    beat = signals[pos - window_size:pos + window_size]\n",
    "                    X.append(beat)\n",
    "                    y.append(arrhythmia_index)\n"
   ]
  },
  {
   "cell_type": "code",
   "execution_count": 9,
   "metadata": {},
   "outputs": [],
   "source": [
    "# 5. Resample Data\n",
    "# Balancing dataset by resampling each class to the target number of samples.\n",
    "resampled_X = []\n",
    "resampled_y = []\n",
    "\n",
    "# Define target samples per class\n",
    "target_samples_per_class = {\n",
    "    0: 10000,\n",
    "    1: 7000,\n",
    "    2: 7000,\n",
    "    3: 5000,\n",
    "    4: 7000\n",
    "}\n",
    "\n",
    "# Resample data for each class\n",
    "for class_index in range(len(classes)):\n",
    "    class_samples = [X[i] for i in range(len(X)) if y[i] == class_index]\n",
    "    target_samples = target_samples_per_class[class_index]\n",
    "    \n",
    "    # Use different random states for reproducibility\n",
    "    random_state = {0: 42, 1: 122, 2: 123, 3: 125, 4: 125}[class_index]\n",
    "    resampled_class_samples = resample(class_samples, n_samples=target_samples, random_state=random_state)\n",
    "    resampled_X.extend(resampled_class_samples)\n",
    "    resampled_y.extend([class_index] * target_samples)\n"
   ]
  },
  {
   "cell_type": "code",
   "execution_count": 10,
   "metadata": {},
   "outputs": [
    {
     "name": "stdout",
     "output_type": "stream",
     "text": [
      "Saved 36000 scalogram images in the 'images' directory.\n"
     ]
    }
   ],
   "source": [
    "# 6. Generate Scalograms\n",
    "# Convert ECG beats to scalograms and save as images.\n",
    "batch_index = 0\n",
    "for i in range(len(resampled_X)):\n",
    "    beat = resampled_X[i]\n",
    "    label = resampled_y[i]\n",
    "    coefficients, _ = pywt.cwt(beat, scales, 'morl')\n",
    "    scalogram = np.abs(coefficients)\n",
    "    save_image(scalogram, label, batch_index)\n",
    "    batch_index += 1\n",
    "\n",
    "# 7. Completion Message\n",
    "# Display a message indicating the process is complete.\n",
    "print(f\"Saved {batch_index} scalogram images in the '{image_dir}' directory.\")"
   ]
  }
 ],
 "metadata": {
  "kernelspec": {
   "display_name": "Python 3",
   "language": "python",
   "name": "python3"
  },
  "language_info": {
   "codemirror_mode": {
    "name": "ipython",
    "version": 3
   },
   "file_extension": ".py",
   "mimetype": "text/x-python",
   "name": "python",
   "nbconvert_exporter": "python",
   "pygments_lexer": "ipython3",
   "version": "3.12.2"
  }
 },
 "nbformat": 4,
 "nbformat_minor": 2
}
